{
 "cells": [
  {
   "cell_type": "code",
   "execution_count": 79,
   "metadata": {},
   "outputs": [],
   "source": [
    "import pandas as pd\n",
    "import numpy as np\n",
    "import seaborn as sns\n",
    "import matplotlib.pyplot as plt\n",
    "import datetime"
   ]
  },
  {
   "cell_type": "markdown",
   "metadata": {},
   "source": [
    "**Import Data**"
   ]
  },
  {
   "cell_type": "code",
   "execution_count": 2,
   "metadata": {},
   "outputs": [
    {
     "name": "stdout",
     "output_type": "stream",
     "text": [
      "Opening file turnstile_180310.txt\n",
      "Opening file turnstile_180317.txt\n",
      "Opening file turnstile_180324.txt\n",
      "Opening file turnstile_180331.txt\n"
     ]
    }
   ],
   "source": [
    "#import data (March'18-May'18) ffrom MTA turnstile data from(http://web.mta.info/developers/turnstile.html)\n",
    "SEARCH_TYPE = 'Spring'     # 'None' to suppress this cell\n",
    "if SEARCH_TYPE=='Spring':  # SMB: files sometimes don't load, so added try: below\n",
    "    TURNSTILE_PATH = 'http://web.mta.info/developers/data/nyct/turnstile/'\n",
    "    TURNSTILE_FILES = ['turnstile_180310','turnstile_180317','turnstile_180324','turnstile_180331']\n",
    "    turnstile_files = [TURNSTILE_PATH + x + '.txt' for x in TURNSTILE_FILES]\n",
    "\n",
    "    tflist = []\n",
    "    for tf in turnstile_files:\n",
    "        print(f'Opening file {tf[-20:]}')\n",
    "        try:\n",
    "            df = pd.read_csv(tf, index_col=None, header=0)\n",
    "            tflist.append(df)\n",
    "        except:\n",
    "            print(f'  Trouble accessing file -> skipping.')\n",
    "    data_nyc_turnstile = pd.concat(tflist)\n",
    "    \n",
    "#\n",
    "    data_nyc_turnstile.columns = data_nyc_turnstile.columns.str.replace(' ', '')\n",
    "\n",
    "else:\n",
    "    print('MTA data not loaded; \"data_nyc_turnstiles\" was not refreshed.')"
   ]
  },
  {
   "cell_type": "markdown",
   "metadata": {},
   "source": [
    "**Challenge 1**\n",
    "\n",
    "Open up a file, use csv reader to read it and ensure there is a column for each feature (C/A, UNIT, SCP, STATION). These are the first four columns."
   ]
  },
  {
   "cell_type": "code",
   "execution_count": 3,
   "metadata": {},
   "outputs": [
    {
     "data": {
      "text/plain": [
       "Index(['C/A', 'UNIT', 'SCP', 'STATION', 'LINENAME', 'DIVISION', 'DATE', 'TIME',\n",
       "       'DESC', 'ENTRIES', 'EXITS'],\n",
       "      dtype='object')"
      ]
     },
     "execution_count": 3,
     "metadata": {},
     "output_type": "execute_result"
    }
   ],
   "source": [
    "data_nyc_turnstile.columns"
   ]
  },
  {
   "cell_type": "markdown",
   "metadata": {},
   "source": [
    "**Challenge 2**\n",
    "\n",
    "Create a new column that specifies the date and time of each entry."
   ]
  },
  {
   "cell_type": "code",
   "execution_count": 5,
   "metadata": {},
   "outputs": [
    {
     "data": {
      "text/html": [
       "<div>\n",
       "<style scoped>\n",
       "    .dataframe tbody tr th:only-of-type {\n",
       "        vertical-align: middle;\n",
       "    }\n",
       "\n",
       "    .dataframe tbody tr th {\n",
       "        vertical-align: top;\n",
       "    }\n",
       "\n",
       "    .dataframe thead th {\n",
       "        text-align: right;\n",
       "    }\n",
       "</style>\n",
       "<table border=\"1\" class=\"dataframe\">\n",
       "  <thead>\n",
       "    <tr style=\"text-align: right;\">\n",
       "      <th></th>\n",
       "      <th>C/A</th>\n",
       "      <th>UNIT</th>\n",
       "      <th>SCP</th>\n",
       "      <th>STATION</th>\n",
       "      <th>LINENAME</th>\n",
       "      <th>DIVISION</th>\n",
       "      <th>DATE</th>\n",
       "      <th>TIME</th>\n",
       "      <th>DESC</th>\n",
       "      <th>ENTRIES</th>\n",
       "      <th>EXITS</th>\n",
       "      <th>DATETIME</th>\n",
       "    </tr>\n",
       "  </thead>\n",
       "  <tbody>\n",
       "    <tr>\n",
       "      <th>0</th>\n",
       "      <td>A002</td>\n",
       "      <td>R051</td>\n",
       "      <td>02-00-00</td>\n",
       "      <td>59 ST</td>\n",
       "      <td>NQR456W</td>\n",
       "      <td>BMT</td>\n",
       "      <td>03/03/2018</td>\n",
       "      <td>03:00:00</td>\n",
       "      <td>REGULAR</td>\n",
       "      <td>6535802</td>\n",
       "      <td>2213345</td>\n",
       "      <td>2018-03-03 03:00:00</td>\n",
       "    </tr>\n",
       "    <tr>\n",
       "      <th>1</th>\n",
       "      <td>A002</td>\n",
       "      <td>R051</td>\n",
       "      <td>02-00-00</td>\n",
       "      <td>59 ST</td>\n",
       "      <td>NQR456W</td>\n",
       "      <td>BMT</td>\n",
       "      <td>03/03/2018</td>\n",
       "      <td>07:00:00</td>\n",
       "      <td>REGULAR</td>\n",
       "      <td>6535813</td>\n",
       "      <td>2213356</td>\n",
       "      <td>2018-03-03 07:00:00</td>\n",
       "    </tr>\n",
       "    <tr>\n",
       "      <th>2</th>\n",
       "      <td>A002</td>\n",
       "      <td>R051</td>\n",
       "      <td>02-00-00</td>\n",
       "      <td>59 ST</td>\n",
       "      <td>NQR456W</td>\n",
       "      <td>BMT</td>\n",
       "      <td>03/03/2018</td>\n",
       "      <td>11:00:00</td>\n",
       "      <td>REGULAR</td>\n",
       "      <td>6535865</td>\n",
       "      <td>2213436</td>\n",
       "      <td>2018-03-03 11:00:00</td>\n",
       "    </tr>\n",
       "    <tr>\n",
       "      <th>3</th>\n",
       "      <td>A002</td>\n",
       "      <td>R051</td>\n",
       "      <td>02-00-00</td>\n",
       "      <td>59 ST</td>\n",
       "      <td>NQR456W</td>\n",
       "      <td>BMT</td>\n",
       "      <td>03/03/2018</td>\n",
       "      <td>15:00:00</td>\n",
       "      <td>REGULAR</td>\n",
       "      <td>6536048</td>\n",
       "      <td>2213481</td>\n",
       "      <td>2018-03-03 15:00:00</td>\n",
       "    </tr>\n",
       "    <tr>\n",
       "      <th>4</th>\n",
       "      <td>A002</td>\n",
       "      <td>R051</td>\n",
       "      <td>02-00-00</td>\n",
       "      <td>59 ST</td>\n",
       "      <td>NQR456W</td>\n",
       "      <td>BMT</td>\n",
       "      <td>03/03/2018</td>\n",
       "      <td>19:00:00</td>\n",
       "      <td>REGULAR</td>\n",
       "      <td>6536326</td>\n",
       "      <td>2213531</td>\n",
       "      <td>2018-03-03 19:00:00</td>\n",
       "    </tr>\n",
       "  </tbody>\n",
       "</table>\n",
       "</div>"
      ],
      "text/plain": [
       "    C/A  UNIT       SCP STATION LINENAME DIVISION        DATE      TIME  \\\n",
       "0  A002  R051  02-00-00   59 ST  NQR456W      BMT  03/03/2018  03:00:00   \n",
       "1  A002  R051  02-00-00   59 ST  NQR456W      BMT  03/03/2018  07:00:00   \n",
       "2  A002  R051  02-00-00   59 ST  NQR456W      BMT  03/03/2018  11:00:00   \n",
       "3  A002  R051  02-00-00   59 ST  NQR456W      BMT  03/03/2018  15:00:00   \n",
       "4  A002  R051  02-00-00   59 ST  NQR456W      BMT  03/03/2018  19:00:00   \n",
       "\n",
       "      DESC  ENTRIES    EXITS            DATETIME  \n",
       "0  REGULAR  6535802  2213345 2018-03-03 03:00:00  \n",
       "1  REGULAR  6535813  2213356 2018-03-03 07:00:00  \n",
       "2  REGULAR  6535865  2213436 2018-03-03 11:00:00  \n",
       "3  REGULAR  6536048  2213481 2018-03-03 15:00:00  \n",
       "4  REGULAR  6536326  2213531 2018-03-03 19:00:00  "
      ]
     },
     "execution_count": 5,
     "metadata": {},
     "output_type": "execute_result"
    }
   ],
   "source": [
    "data_nyc_turnstile['Date_time'] = data_nyc_turnstile['DATE'] + ' ' + data_nyc_turnstile['TIME']\n",
    "\n",
    "#Converting ['Date_time'] to datetime64 series\n",
    "data_nyc_turnstile['DATETIME'] = pd.to_datetime(data_nyc_turnstile['Date_time'], format=\"%m/%d/%Y %H:%M:%S\")\n",
    "data_nyc_turnstile.drop('Date_time', axis=1, inplace=True)\n",
    "data_nyc_turnstile.head()"
   ]
  },
  {
   "cell_type": "markdown",
   "metadata": {},
   "source": [
    "**Challenge 3**\n",
    "\n",
    "Calculate to total daily entries for each turnstile."
   ]
  },
  {
   "cell_type": "code",
   "execution_count": 6,
   "metadata": {},
   "outputs": [],
   "source": [
    "data_nyc_new=data_nyc_turnstile.sort_values(by=['STATION', 'UNIT', 'C/A', 'SCP', 'DATETIME'])\n",
    "\n"
   ]
  },
  {
   "cell_type": "markdown",
   "metadata": {},
   "source": [
    "\n"
   ]
  },
  {
   "cell_type": "code",
   "execution_count": 7,
   "metadata": {},
   "outputs": [
    {
     "data": {
      "text/html": [
       "<div>\n",
       "<style scoped>\n",
       "    .dataframe tbody tr th:only-of-type {\n",
       "        vertical-align: middle;\n",
       "    }\n",
       "\n",
       "    .dataframe tbody tr th {\n",
       "        vertical-align: top;\n",
       "    }\n",
       "\n",
       "    .dataframe thead th {\n",
       "        text-align: right;\n",
       "    }\n",
       "</style>\n",
       "<table border=\"1\" class=\"dataframe\">\n",
       "  <thead>\n",
       "    <tr style=\"text-align: right;\">\n",
       "      <th></th>\n",
       "      <th>C/A</th>\n",
       "      <th>UNIT</th>\n",
       "      <th>SCP</th>\n",
       "      <th>STATION</th>\n",
       "      <th>LINENAME</th>\n",
       "      <th>DIVISION</th>\n",
       "      <th>DATE</th>\n",
       "      <th>TIME</th>\n",
       "      <th>DESC</th>\n",
       "      <th>ENTRIES</th>\n",
       "      <th>EXITS</th>\n",
       "      <th>DATETIME</th>\n",
       "      <th>DAILY_ENTRIES</th>\n",
       "    </tr>\n",
       "  </thead>\n",
       "  <tbody>\n",
       "    <tr>\n",
       "      <th>30342</th>\n",
       "      <td>H007</td>\n",
       "      <td>R248</td>\n",
       "      <td>00-00-00</td>\n",
       "      <td>1 AV</td>\n",
       "      <td>L</td>\n",
       "      <td>BMT</td>\n",
       "      <td>03/03/2018</td>\n",
       "      <td>03:00:00</td>\n",
       "      <td>REGULAR</td>\n",
       "      <td>13272291</td>\n",
       "      <td>14824220</td>\n",
       "      <td>2018-03-03 03:00:00</td>\n",
       "      <td>42.0</td>\n",
       "    </tr>\n",
       "    <tr>\n",
       "      <th>30343</th>\n",
       "      <td>H007</td>\n",
       "      <td>R248</td>\n",
       "      <td>00-00-00</td>\n",
       "      <td>1 AV</td>\n",
       "      <td>L</td>\n",
       "      <td>BMT</td>\n",
       "      <td>03/03/2018</td>\n",
       "      <td>07:00:00</td>\n",
       "      <td>REGULAR</td>\n",
       "      <td>13272333</td>\n",
       "      <td>14824377</td>\n",
       "      <td>2018-03-03 07:00:00</td>\n",
       "      <td>394.0</td>\n",
       "    </tr>\n",
       "    <tr>\n",
       "      <th>30344</th>\n",
       "      <td>H007</td>\n",
       "      <td>R248</td>\n",
       "      <td>00-00-00</td>\n",
       "      <td>1 AV</td>\n",
       "      <td>L</td>\n",
       "      <td>BMT</td>\n",
       "      <td>03/03/2018</td>\n",
       "      <td>11:00:00</td>\n",
       "      <td>REGULAR</td>\n",
       "      <td>13272727</td>\n",
       "      <td>14825054</td>\n",
       "      <td>2018-03-03 11:00:00</td>\n",
       "      <td>704.0</td>\n",
       "    </tr>\n",
       "    <tr>\n",
       "      <th>30345</th>\n",
       "      <td>H007</td>\n",
       "      <td>R248</td>\n",
       "      <td>00-00-00</td>\n",
       "      <td>1 AV</td>\n",
       "      <td>L</td>\n",
       "      <td>BMT</td>\n",
       "      <td>03/03/2018</td>\n",
       "      <td>15:00:00</td>\n",
       "      <td>REGULAR</td>\n",
       "      <td>13273431</td>\n",
       "      <td>14826083</td>\n",
       "      <td>2018-03-03 15:00:00</td>\n",
       "      <td>779.0</td>\n",
       "    </tr>\n",
       "    <tr>\n",
       "      <th>30346</th>\n",
       "      <td>H007</td>\n",
       "      <td>R248</td>\n",
       "      <td>00-00-00</td>\n",
       "      <td>1 AV</td>\n",
       "      <td>L</td>\n",
       "      <td>BMT</td>\n",
       "      <td>03/03/2018</td>\n",
       "      <td>19:00:00</td>\n",
       "      <td>REGULAR</td>\n",
       "      <td>13274210</td>\n",
       "      <td>14827461</td>\n",
       "      <td>2018-03-03 19:00:00</td>\n",
       "      <td>582.0</td>\n",
       "    </tr>\n",
       "  </tbody>\n",
       "</table>\n",
       "</div>"
      ],
      "text/plain": [
       "        C/A  UNIT       SCP STATION LINENAME DIVISION        DATE      TIME  \\\n",
       "30342  H007  R248  00-00-00    1 AV        L      BMT  03/03/2018  03:00:00   \n",
       "30343  H007  R248  00-00-00    1 AV        L      BMT  03/03/2018  07:00:00   \n",
       "30344  H007  R248  00-00-00    1 AV        L      BMT  03/03/2018  11:00:00   \n",
       "30345  H007  R248  00-00-00    1 AV        L      BMT  03/03/2018  15:00:00   \n",
       "30346  H007  R248  00-00-00    1 AV        L      BMT  03/03/2018  19:00:00   \n",
       "\n",
       "          DESC   ENTRIES     EXITS            DATETIME  DAILY_ENTRIES  \n",
       "30342  REGULAR  13272291  14824220 2018-03-03 03:00:00           42.0  \n",
       "30343  REGULAR  13272333  14824377 2018-03-03 07:00:00          394.0  \n",
       "30344  REGULAR  13272727  14825054 2018-03-03 11:00:00          704.0  \n",
       "30345  REGULAR  13273431  14826083 2018-03-03 15:00:00          779.0  \n",
       "30346  REGULAR  13274210  14827461 2018-03-03 19:00:00          582.0  "
      ]
     },
     "execution_count": 7,
     "metadata": {},
     "output_type": "execute_result"
    }
   ],
   "source": [
    "data_nyc_new['DAILY_ENTRIES']=data_nyc_new['ENTRIES'].diff(periods=-1)*-1\n",
    "data_nyc_new.head()\n"
   ]
  },
  {
   "cell_type": "code",
   "execution_count": 8,
   "metadata": {},
   "outputs": [],
   "source": [
    "data_nyc_new = data_nyc_new[(data_nyc_new['DAILY_ENTRIES'] >= 0) & (data_nyc_new['DAILY_ENTRIES'] < 100000)]"
   ]
  },
  {
   "cell_type": "code",
   "execution_count": 9,
   "metadata": {},
   "outputs": [
    {
     "data": {
      "text/html": [
       "<div>\n",
       "<style scoped>\n",
       "    .dataframe tbody tr th:only-of-type {\n",
       "        vertical-align: middle;\n",
       "    }\n",
       "\n",
       "    .dataframe tbody tr th {\n",
       "        vertical-align: top;\n",
       "    }\n",
       "\n",
       "    .dataframe thead th {\n",
       "        text-align: right;\n",
       "    }\n",
       "</style>\n",
       "<table border=\"1\" class=\"dataframe\">\n",
       "  <thead>\n",
       "    <tr style=\"text-align: right;\">\n",
       "      <th></th>\n",
       "      <th>C/A</th>\n",
       "      <th>UNIT</th>\n",
       "      <th>SCP</th>\n",
       "      <th>STATION</th>\n",
       "      <th>LINENAME</th>\n",
       "      <th>DIVISION</th>\n",
       "      <th>DATE</th>\n",
       "      <th>TIME</th>\n",
       "      <th>DESC</th>\n",
       "      <th>ENTRIES</th>\n",
       "      <th>EXITS</th>\n",
       "      <th>DATETIME</th>\n",
       "      <th>DAILY_ENTRIES</th>\n",
       "    </tr>\n",
       "  </thead>\n",
       "  <tbody>\n",
       "    <tr>\n",
       "      <th>30342</th>\n",
       "      <td>H007</td>\n",
       "      <td>R248</td>\n",
       "      <td>00-00-00</td>\n",
       "      <td>1 AV</td>\n",
       "      <td>L</td>\n",
       "      <td>BMT</td>\n",
       "      <td>03/03/2018</td>\n",
       "      <td>03:00:00</td>\n",
       "      <td>REGULAR</td>\n",
       "      <td>13272291</td>\n",
       "      <td>14824220</td>\n",
       "      <td>2018-03-03 03:00:00</td>\n",
       "      <td>42.0</td>\n",
       "    </tr>\n",
       "    <tr>\n",
       "      <th>30343</th>\n",
       "      <td>H007</td>\n",
       "      <td>R248</td>\n",
       "      <td>00-00-00</td>\n",
       "      <td>1 AV</td>\n",
       "      <td>L</td>\n",
       "      <td>BMT</td>\n",
       "      <td>03/03/2018</td>\n",
       "      <td>07:00:00</td>\n",
       "      <td>REGULAR</td>\n",
       "      <td>13272333</td>\n",
       "      <td>14824377</td>\n",
       "      <td>2018-03-03 07:00:00</td>\n",
       "      <td>394.0</td>\n",
       "    </tr>\n",
       "    <tr>\n",
       "      <th>30344</th>\n",
       "      <td>H007</td>\n",
       "      <td>R248</td>\n",
       "      <td>00-00-00</td>\n",
       "      <td>1 AV</td>\n",
       "      <td>L</td>\n",
       "      <td>BMT</td>\n",
       "      <td>03/03/2018</td>\n",
       "      <td>11:00:00</td>\n",
       "      <td>REGULAR</td>\n",
       "      <td>13272727</td>\n",
       "      <td>14825054</td>\n",
       "      <td>2018-03-03 11:00:00</td>\n",
       "      <td>704.0</td>\n",
       "    </tr>\n",
       "    <tr>\n",
       "      <th>30345</th>\n",
       "      <td>H007</td>\n",
       "      <td>R248</td>\n",
       "      <td>00-00-00</td>\n",
       "      <td>1 AV</td>\n",
       "      <td>L</td>\n",
       "      <td>BMT</td>\n",
       "      <td>03/03/2018</td>\n",
       "      <td>15:00:00</td>\n",
       "      <td>REGULAR</td>\n",
       "      <td>13273431</td>\n",
       "      <td>14826083</td>\n",
       "      <td>2018-03-03 15:00:00</td>\n",
       "      <td>779.0</td>\n",
       "    </tr>\n",
       "    <tr>\n",
       "      <th>30346</th>\n",
       "      <td>H007</td>\n",
       "      <td>R248</td>\n",
       "      <td>00-00-00</td>\n",
       "      <td>1 AV</td>\n",
       "      <td>L</td>\n",
       "      <td>BMT</td>\n",
       "      <td>03/03/2018</td>\n",
       "      <td>19:00:00</td>\n",
       "      <td>REGULAR</td>\n",
       "      <td>13274210</td>\n",
       "      <td>14827461</td>\n",
       "      <td>2018-03-03 19:00:00</td>\n",
       "      <td>582.0</td>\n",
       "    </tr>\n",
       "  </tbody>\n",
       "</table>\n",
       "</div>"
      ],
      "text/plain": [
       "        C/A  UNIT       SCP STATION LINENAME DIVISION        DATE      TIME  \\\n",
       "30342  H007  R248  00-00-00    1 AV        L      BMT  03/03/2018  03:00:00   \n",
       "30343  H007  R248  00-00-00    1 AV        L      BMT  03/03/2018  07:00:00   \n",
       "30344  H007  R248  00-00-00    1 AV        L      BMT  03/03/2018  11:00:00   \n",
       "30345  H007  R248  00-00-00    1 AV        L      BMT  03/03/2018  15:00:00   \n",
       "30346  H007  R248  00-00-00    1 AV        L      BMT  03/03/2018  19:00:00   \n",
       "\n",
       "          DESC   ENTRIES     EXITS            DATETIME  DAILY_ENTRIES  \n",
       "30342  REGULAR  13272291  14824220 2018-03-03 03:00:00           42.0  \n",
       "30343  REGULAR  13272333  14824377 2018-03-03 07:00:00          394.0  \n",
       "30344  REGULAR  13272727  14825054 2018-03-03 11:00:00          704.0  \n",
       "30345  REGULAR  13273431  14826083 2018-03-03 15:00:00          779.0  \n",
       "30346  REGULAR  13274210  14827461 2018-03-03 19:00:00          582.0  "
      ]
     },
     "execution_count": 9,
     "metadata": {},
     "output_type": "execute_result"
    }
   ],
   "source": [
    "data_nyc_new.head()"
   ]
  },
  {
   "cell_type": "markdown",
   "metadata": {},
   "source": [
    "**Challenge 4**\n",
    "\n",
    "Plot the daily time series for a turnstile."
   ]
  },
  {
   "cell_type": "code",
   "execution_count": 10,
   "metadata": {},
   "outputs": [
    {
     "data": {
      "text/html": [
       "<div>\n",
       "<style scoped>\n",
       "    .dataframe tbody tr th:only-of-type {\n",
       "        vertical-align: middle;\n",
       "    }\n",
       "\n",
       "    .dataframe tbody tr th {\n",
       "        vertical-align: top;\n",
       "    }\n",
       "\n",
       "    .dataframe thead th {\n",
       "        text-align: right;\n",
       "    }\n",
       "</style>\n",
       "<table border=\"1\" class=\"dataframe\">\n",
       "  <thead>\n",
       "    <tr style=\"text-align: right;\">\n",
       "      <th></th>\n",
       "      <th>UNIT</th>\n",
       "      <th>C/A</th>\n",
       "      <th>SCP</th>\n",
       "      <th>DATETIME</th>\n",
       "      <th>DAILY_ENTRIES</th>\n",
       "    </tr>\n",
       "  </thead>\n",
       "  <tbody>\n",
       "    <tr>\n",
       "      <th>0</th>\n",
       "      <td>R001</td>\n",
       "      <td>A058</td>\n",
       "      <td>01-00-00</td>\n",
       "      <td>2018-03-03 00:00:00</td>\n",
       "      <td>13.0</td>\n",
       "    </tr>\n",
       "    <tr>\n",
       "      <th>1</th>\n",
       "      <td>R001</td>\n",
       "      <td>A058</td>\n",
       "      <td>01-00-00</td>\n",
       "      <td>2018-03-03 04:00:00</td>\n",
       "      <td>8.0</td>\n",
       "    </tr>\n",
       "    <tr>\n",
       "      <th>2</th>\n",
       "      <td>R001</td>\n",
       "      <td>A058</td>\n",
       "      <td>01-00-00</td>\n",
       "      <td>2018-03-03 08:00:00</td>\n",
       "      <td>26.0</td>\n",
       "    </tr>\n",
       "    <tr>\n",
       "      <th>3</th>\n",
       "      <td>R001</td>\n",
       "      <td>A058</td>\n",
       "      <td>01-00-00</td>\n",
       "      <td>2018-03-03 12:00:00</td>\n",
       "      <td>58.0</td>\n",
       "    </tr>\n",
       "    <tr>\n",
       "      <th>4</th>\n",
       "      <td>R001</td>\n",
       "      <td>A058</td>\n",
       "      <td>01-00-00</td>\n",
       "      <td>2018-03-03 16:00:00</td>\n",
       "      <td>82.0</td>\n",
       "    </tr>\n",
       "  </tbody>\n",
       "</table>\n",
       "</div>"
      ],
      "text/plain": [
       "   UNIT   C/A       SCP            DATETIME  DAILY_ENTRIES\n",
       "0  R001  A058  01-00-00 2018-03-03 00:00:00           13.0\n",
       "1  R001  A058  01-00-00 2018-03-03 04:00:00            8.0\n",
       "2  R001  A058  01-00-00 2018-03-03 08:00:00           26.0\n",
       "3  R001  A058  01-00-00 2018-03-03 12:00:00           58.0\n",
       "4  R001  A058  01-00-00 2018-03-03 16:00:00           82.0"
      ]
     },
     "execution_count": 10,
     "metadata": {},
     "output_type": "execute_result"
    }
   ],
   "source": [
    "data_turnstile=data_nyc_new.groupby(['UNIT', 'C/A', 'SCP', 'DATETIME'])['DAILY_ENTRIES'].sum().reset_index()\n",
    "data_turnstile.head()\n"
   ]
  },
  {
   "cell_type": "code",
   "execution_count": 11,
   "metadata": {},
   "outputs": [],
   "source": [
    "data_single_turnstile = data_turnstile[(data_turnstile['C/A'] == 'A058')\n",
    "                                     & (data_turnstile['SCP'] == '01-00-00')]"
   ]
  },
  {
   "cell_type": "code",
   "execution_count": 18,
   "metadata": {},
   "outputs": [
    {
     "data": {
      "text/plain": [
       "Text(0,0.5,'Total Daily Entries')"
      ]
     },
     "execution_count": 18,
     "metadata": {},
     "output_type": "execute_result"
    },
    {
     "data": {
      "image/png": "[encoded data removed]",
      "text/plain": [
       "<Figure size 864x216 with 1 Axes>"
      ]
     },
     "metadata": {},
     "output_type": "display_data"
    }
   ],
   "source": [
    "x=data_single_turnstile['DATETIME']\n",
    "y=data_single_turnstile['DAILY_ENTRIES']\n",
    "\n",
    "plt.figure(figsize=(12,3))\n",
    "plt.plot(x,y)\n",
    "plt.xlabel('Date')\n",
    "plt.ylabel('Total Daily Entries')"
   ]
  },
  {
   "cell_type": "markdown",
   "metadata": {},
   "source": [
    "**Challenge 5 and Challenge 6**\n",
    "\n",
    "Combine the numbers together -- for each ControlArea/UNIT/STATION combo, for each day, add the counts from each turnstile belonging to that combo."
   ]
  },
  {
   "cell_type": "code",
   "execution_count": 26,
   "metadata": {},
   "outputs": [
    {
     "data": {
      "text/html": [
       "<div>\n",
       "<style scoped>\n",
       "    .dataframe tbody tr th:only-of-type {\n",
       "        vertical-align: middle;\n",
       "    }\n",
       "\n",
       "    .dataframe tbody tr th {\n",
       "        vertical-align: top;\n",
       "    }\n",
       "\n",
       "    .dataframe thead th {\n",
       "        text-align: right;\n",
       "    }\n",
       "</style>\n",
       "<table border=\"1\" class=\"dataframe\">\n",
       "  <thead>\n",
       "    <tr style=\"text-align: right;\">\n",
       "      <th></th>\n",
       "      <th>STATION</th>\n",
       "      <th>DATETIME</th>\n",
       "      <th>DAILY_ENTRIES</th>\n",
       "    </tr>\n",
       "  </thead>\n",
       "  <tbody>\n",
       "    <tr>\n",
       "      <th>0</th>\n",
       "      <td>1 AV</td>\n",
       "      <td>2018-03-03</td>\n",
       "      <td>18310.0</td>\n",
       "    </tr>\n",
       "    <tr>\n",
       "      <th>1</th>\n",
       "      <td>1 AV</td>\n",
       "      <td>2018-03-04</td>\n",
       "      <td>12902.0</td>\n",
       "    </tr>\n",
       "    <tr>\n",
       "      <th>2</th>\n",
       "      <td>1 AV</td>\n",
       "      <td>2018-03-05</td>\n",
       "      <td>21506.0</td>\n",
       "    </tr>\n",
       "    <tr>\n",
       "      <th>3</th>\n",
       "      <td>1 AV</td>\n",
       "      <td>2018-03-06</td>\n",
       "      <td>22480.0</td>\n",
       "    </tr>\n",
       "    <tr>\n",
       "      <th>4</th>\n",
       "      <td>1 AV</td>\n",
       "      <td>2018-03-07</td>\n",
       "      <td>17187.0</td>\n",
       "    </tr>\n",
       "  </tbody>\n",
       "</table>\n",
       "</div>"
      ],
      "text/plain": [
       "  STATION   DATETIME  DAILY_ENTRIES\n",
       "0    1 AV 2018-03-03        18310.0\n",
       "1    1 AV 2018-03-04        12902.0\n",
       "2    1 AV 2018-03-05        21506.0\n",
       "3    1 AV 2018-03-06        22480.0\n",
       "4    1 AV 2018-03-07        17187.0"
      ]
     },
     "execution_count": 26,
     "metadata": {},
     "output_type": "execute_result"
    }
   ],
   "source": [
    "data_turnstile=data_nyc_new.groupby(['STATION', 'UNIT', 'C/A','DATETIME'])['DAILY_ENTRIES'].sum().reset_index()\n",
    "\n",
    "data_turnstile = data_turnstile.set_index('DATETIME').groupby(['STATION','UNIT','C/A']).resample('D').sum().reset_index()\n",
    "data_turnstile=data_turnstile.groupby(['STATION','DATETIME'])['DAILY_ENTRIES'].sum().reset_index()\n",
    "data_turnstile.head()"
   ]
  },
  {
   "cell_type": "markdown",
   "metadata": {},
   "source": [
    "**Challenge 7**\n",
    "\n",
    "Plot the time series (either daily or your preferred level of granularity) for a station."
   ]
  },
  {
   "cell_type": "code",
   "execution_count": 79,
   "metadata": {},
   "outputs": [
    {
     "data": {
      "text/plain": [
       "[<matplotlib.lines.Line2D at 0x17229c0fb38>]"
      ]
     },
     "execution_count": 79,
     "metadata": {},
     "output_type": "execute_result"
    },
    {
     "data": {
      "image/png": "[encoded data removed]",
      "text/plain": [
       "<Figure size 864x216 with 1 Axes>"
      ]
     },
     "metadata": {},
     "output_type": "display_data"
    }
   ],
   "source": [
    "grand_central_data = data_turnstile[data_turnstile['STATION'] =='GRD CNTRL-42 ST']\n",
    "x=grand_central_data['DATETIME']\n",
    "y=grand_central_data['DAILY_ENTRIES']\n",
    "plt.figure(figsize=(12,3))\n",
    "plt.title('Total Entries for Grand Central 42-ST Station')\n",
    "plt.xlabel('Date')\n",
    "plt.ylabel('Total Entries')\n",
    "plt.plot(x,y)\n"
   ]
  },
  {
   "cell_type": "markdown",
   "metadata": {},
   "source": [
    "**Challenge 8**\n",
    "\n",
    "Select a station and find the total daily counts for this station. Then plot those daily counts for each week separately."
   ]
  },
  {
   "cell_type": "code",
   "execution_count": 38,
   "metadata": {},
   "outputs": [
    {
     "data": {
      "text/html": [
       "<div>\n",
       "<style scoped>\n",
       "    .dataframe tbody tr th:only-of-type {\n",
       "        vertical-align: middle;\n",
       "    }\n",
       "\n",
       "    .dataframe tbody tr th {\n",
       "        vertical-align: top;\n",
       "    }\n",
       "\n",
       "    .dataframe thead th {\n",
       "        text-align: right;\n",
       "    }\n",
       "</style>\n",
       "<table border=\"1\" class=\"dataframe\">\n",
       "  <thead>\n",
       "    <tr style=\"text-align: right;\">\n",
       "      <th></th>\n",
       "      <th>STATION</th>\n",
       "      <th>DATETIME</th>\n",
       "      <th>DAILY_ENTRIES</th>\n",
       "      <th>WEEK_DAY</th>\n",
       "      <th>WEEK_NUMBER</th>\n",
       "    </tr>\n",
       "  </thead>\n",
       "  <tbody>\n",
       "    <tr>\n",
       "      <th>2</th>\n",
       "      <td>1 AV</td>\n",
       "      <td>2018-03-05</td>\n",
       "      <td>21506.0</td>\n",
       "      <td>0</td>\n",
       "      <td>10</td>\n",
       "    </tr>\n",
       "    <tr>\n",
       "      <th>3</th>\n",
       "      <td>1 AV</td>\n",
       "      <td>2018-03-06</td>\n",
       "      <td>22480.0</td>\n",
       "      <td>1</td>\n",
       "      <td>10</td>\n",
       "    </tr>\n",
       "    <tr>\n",
       "      <th>4</th>\n",
       "      <td>1 AV</td>\n",
       "      <td>2018-03-07</td>\n",
       "      <td>17187.0</td>\n",
       "      <td>2</td>\n",
       "      <td>10</td>\n",
       "    </tr>\n",
       "    <tr>\n",
       "      <th>5</th>\n",
       "      <td>1 AV</td>\n",
       "      <td>2018-03-08</td>\n",
       "      <td>22888.0</td>\n",
       "      <td>3</td>\n",
       "      <td>10</td>\n",
       "    </tr>\n",
       "    <tr>\n",
       "      <th>6</th>\n",
       "      <td>1 AV</td>\n",
       "      <td>2018-03-09</td>\n",
       "      <td>25963.0</td>\n",
       "      <td>4</td>\n",
       "      <td>10</td>\n",
       "    </tr>\n",
       "  </tbody>\n",
       "</table>\n",
       "</div>"
      ],
      "text/plain": [
       "  STATION   DATETIME  DAILY_ENTRIES  WEEK_DAY  WEEK_NUMBER\n",
       "2    1 AV 2018-03-05        21506.0         0           10\n",
       "3    1 AV 2018-03-06        22480.0         1           10\n",
       "4    1 AV 2018-03-07        17187.0         2           10\n",
       "5    1 AV 2018-03-08        22888.0         3           10\n",
       "6    1 AV 2018-03-09        25963.0         4           10"
      ]
     },
     "execution_count": 38,
     "metadata": {},
     "output_type": "execute_result"
    }
   ],
   "source": [
    "data_turnstile['WEEK_DAY']=data_turnstile['DATETIME'].dt.dayofweek\n",
    "data_turnstile['WEEK_NUMBER']=data_turnstile['DATETIME'].dt.week\n",
    "data_turnstile.head()\n",
    "                                     "
   ]
  },
  {
   "cell_type": "code",
   "execution_count": 23,
   "metadata": {},
   "outputs": [],
   "source": [
    "#data_turnstile['WEEK_NUMBER']=data_turnstile['DATETIME'].dt.week\n",
    "#data_turnstile.head()"
   ]
  },
  {
   "cell_type": "code",
   "execution_count": 81,
   "metadata": {},
   "outputs": [
    {
     "data": {
      "text/plain": [
       "<matplotlib.legend.Legend at 0x15483939c88>"
      ]
     },
     "execution_count": 81,
     "metadata": {},
     "output_type": "execute_result"
    },
    {
     "data": {
      "image/png": "[encoded data removed]",
      "text/plain": [
       "<Figure size 432x288 with 1 Axes>"
      ]
     },
     "metadata": {},
     "output_type": "display_data"
    }
   ],
   "source": [
    "#Selecting a station\n",
    "\n",
    "data_grand_central=data_turnstile[data_turnstile['STATION'] =='GRD CNTRL-42 ST']\n",
    "data_grand_central=data_turnstile[data_turnstile['WEEK_NUMBER']<13]\n",
    "data_grand_central=data_grand_central.groupby(['WEEK_NUMBER','WEEK_DAY'])['DAILY_ENTRIES'].sum().reset_index()\n",
    "data_grand_central\n",
    "legend =['Week 10','Week-11','Week-12']\n",
    "# defining weeks\n",
    "list_of_weeks=[10,11,12]\n",
    "for i in list_of_weeks:\n",
    "    x=data_grand_central.loc[data_grand_central['WEEK_NUMBER']==i,'WEEK_DAY']\n",
    "    y=data_grand_central.loc[data_grand_central['WEEK_NUMBER']==i,'DAILY_ENTRIES']\n",
    "    plt.plot(x,y)\n",
    "    \n",
    "plt.ylabel(\"Total Entries\",fontsize = 12, weight = 'bold')\n",
    "plt.xlabel(\"Day of the Week\",fontsize = 12, weight = 'bold')\n",
    "plt.title(\"Traffic at 'GRAND CNTRL 42 ST' station  \",fontsize = 15, weight = 'bold')\n",
    "plt.legend(legend, loc ='best', fontsize=10)\n",
    "\n",
    "    \n",
    "    \n"
   ]
  },
  {
   "cell_type": "code",
   "execution_count": 57,
   "metadata": {},
   "outputs": [],
   "source": [
    "#temp = data_grand_central[data_grand_central['WEEK_NUMBER']==11]\n",
    "#plt.plot(temp['WEEK_DAY'],temp['DAILY_ENTRIES'])"
   ]
  },
  {
   "cell_type": "markdown",
   "metadata": {},
   "source": [
    "**Challenge 9**\n",
    "\n",
    "Over multiple weeks, sum total ridership for each station and sort them, so you can find out the stations with the highest traffic during the time you investigate"
   ]
  },
  {
   "cell_type": "code",
   "execution_count": 44,
   "metadata": {},
   "outputs": [
    {
     "data": {
      "text/html": [
       "<div>\n",
       "<style scoped>\n",
       "    .dataframe tbody tr th:only-of-type {\n",
       "        vertical-align: middle;\n",
       "    }\n",
       "\n",
       "    .dataframe tbody tr th {\n",
       "        vertical-align: top;\n",
       "    }\n",
       "\n",
       "    .dataframe thead th {\n",
       "        text-align: right;\n",
       "    }\n",
       "</style>\n",
       "<table border=\"1\" class=\"dataframe\">\n",
       "  <thead>\n",
       "    <tr style=\"text-align: right;\">\n",
       "      <th></th>\n",
       "      <th>STATION</th>\n",
       "      <th>DAILY_ENTRIES</th>\n",
       "    </tr>\n",
       "  </thead>\n",
       "  <tbody>\n",
       "    <tr>\n",
       "      <th>60</th>\n",
       "      <td>34 ST-PENN STA</td>\n",
       "      <td>3721108.0</td>\n",
       "    </tr>\n",
       "    <tr>\n",
       "      <th>230</th>\n",
       "      <td>GRD CNTRL-42 ST</td>\n",
       "      <td>3345363.0</td>\n",
       "    </tr>\n",
       "    <tr>\n",
       "      <th>46</th>\n",
       "      <td>23 ST</td>\n",
       "      <td>2620742.0</td>\n",
       "    </tr>\n",
       "    <tr>\n",
       "      <th>58</th>\n",
       "      <td>34 ST-HERALD SQ</td>\n",
       "      <td>2524099.0</td>\n",
       "    </tr>\n",
       "    <tr>\n",
       "      <th>14</th>\n",
       "      <td>14 ST-UNION SQ</td>\n",
       "      <td>2420786.0</td>\n",
       "    </tr>\n",
       "    <tr>\n",
       "      <th>348</th>\n",
       "      <td>TIMES SQ-42 ST</td>\n",
       "      <td>2414783.0</td>\n",
       "    </tr>\n",
       "    <tr>\n",
       "      <th>223</th>\n",
       "      <td>FULTON ST</td>\n",
       "      <td>2334485.0</td>\n",
       "    </tr>\n",
       "    <tr>\n",
       "      <th>66</th>\n",
       "      <td>42 ST-PORT AUTH</td>\n",
       "      <td>2119058.0</td>\n",
       "    </tr>\n",
       "    <tr>\n",
       "      <th>108</th>\n",
       "      <td>86 ST</td>\n",
       "      <td>1976678.0</td>\n",
       "    </tr>\n",
       "    <tr>\n",
       "      <th>171</th>\n",
       "      <td>CANAL ST</td>\n",
       "      <td>1712709.0</td>\n",
       "    </tr>\n",
       "  </tbody>\n",
       "</table>\n",
       "</div>"
      ],
      "text/plain": [
       "             STATION  DAILY_ENTRIES\n",
       "60    34 ST-PENN STA      3721108.0\n",
       "230  GRD CNTRL-42 ST      3345363.0\n",
       "46             23 ST      2620742.0\n",
       "58   34 ST-HERALD SQ      2524099.0\n",
       "14    14 ST-UNION SQ      2420786.0\n",
       "348   TIMES SQ-42 ST      2414783.0\n",
       "223        FULTON ST      2334485.0\n",
       "66   42 ST-PORT AUTH      2119058.0\n",
       "108            86 ST      1976678.0\n",
       "171         CANAL ST      1712709.0"
      ]
     },
     "execution_count": 44,
     "metadata": {},
     "output_type": "execute_result"
    }
   ],
   "source": [
    "data_turnstile_station_total=data_turnstile.groupby(['STATION'])['DAILY_ENTRIES'].sum().reset_index()\n",
    "data_turnstile_station_total.sort_values(['DAILY_ENTRIES'],ascending=False,inplace=True)\n",
    "data_turnstile_station_total.head(10)"
   ]
  },
  {
   "cell_type": "markdown",
   "metadata": {},
   "source": [
    "**Challenge 10**\n",
    "\n"
   ]
  },
  {
   "cell_type": "code",
   "execution_count": 84,
   "metadata": {},
   "outputs": [
    {
     "data": {
      "text/plain": [
       "Text(0,0.5,'Count Of Stations')"
      ]
     },
     "execution_count": 84,
     "metadata": {},
     "output_type": "execute_result"
    },
    {
     "data": {
      "image/png": "[encoded data removed]",
      "text/plain": [
       "<Figure size 864x216 with 1 Axes>"
      ]
     },
     "metadata": {},
     "output_type": "display_data"
    }
   ],
   "source": [
    "\n",
    "data_turnstile_station_total.hist(figsize=(12,3))\n",
    "plt.title('Distribution Of Total Ridership By Station')\n",
    "plt.xlabel('Total Ridership')\n",
    "plt.ylabel('Count Of Stations')\n"
   ]
  },
  {
   "cell_type": "code",
   "execution_count": null,
   "metadata": {},
   "outputs": [],
   "source": []
  }
 ],
 "metadata": {
  "kernelspec": {
   "display_name": "Python 3",
   "language": "python",
   "name": "python3"
  },
  "language_info": {
   "codemirror_mode": {
    "name": "ipython",
    "version": 3
   },
   "file_extension": ".py",
   "mimetype": "text/x-python",
   "name": "python",
   "nbconvert_exporter": "python",
   "pygments_lexer": "ipython3",
   "version": "3.6.5"
  }
 },
 "nbformat": 4,
 "nbformat_minor": 2
}
